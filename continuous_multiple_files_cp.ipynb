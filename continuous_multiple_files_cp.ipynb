{
 "cells": [
  {
   "cell_type": "markdown",
   "source": [
    "# 大量の連番ファイルを他のフォルダへコピーします。\n",
    "\n",
    "\n",
    "# まずはファイルリスト\n",
    "# それからコピー\n",
    "# 文字から数値への変更が必要\n",
    "# numpyのスライスを利用して"
   ],
   "metadata": {
    "collapsed": false,
    "pycharm": {
     "name": "#%% md\n"
    }
   }
  },
  {
   "cell_type": "code",
   "execution_count": 2,
   "outputs": [],
   "source": [
    "# import pandas as pd\n",
    "import numpy as np\n",
    "# import csv\n",
    "# import math\n",
    "# import matplotlib.pyplot as plt\n",
    "import glob\n",
    "# import re\n",
    "import os\n",
    "# import h5py\n",
    "#\n",
    "# import matplotlib.pyplot as plt\n",
    "# import skimage\n",
    "# from skimage import data, color\n",
    "# from skimage.transform import rescale, resize, downscale_local_mean\n",
    "# from skimage.viewer import ImageViewer\n",
    "# from skimage import io\n",
    "import shutil"
   ],
   "metadata": {
    "collapsed": false,
    "pycharm": {
     "name": "#%%\n"
    }
   }
  },
  {
   "cell_type": "markdown",
   "source": [
    "# 0.まずは，対象ディレクトリ移動(そして，その確認）か？\n"
   ],
   "metadata": {
    "collapsed": false
   }
  },
  {
   "cell_type": "code",
   "execution_count": 3,
   "outputs": [
    {
     "name": "stdout",
     "output_type": "stream",
     "text": [
      "C:\\Users\\survey\\Desktop\\box\\box\n"
     ]
    }
   ],
   "source": [
    "#os.chdir\n",
    "\n",
    "# %cd C:\\Users\\survey\\Dropbox\\My PC (SURVEY-C20)\\Documents\\GitHub\\continuous_multiple_files_cp\n",
    "\n",
    "# %cd C:\\Users\\survey\\Desktop\\nmea20210705\\divide\\concat\\ffmpeg_concat\n",
    "%cd C:\\Users\\survey\\Desktop\\box\\box"
   ],
   "metadata": {
    "collapsed": false,
    "pycharm": {
     "name": "#%%\n"
    }
   }
  },
  {
   "cell_type": "code",
   "execution_count": 6,
   "outputs": [],
   "source": [
    "# 読み込みたい連番ファイルのスタートと終わり（閉区間）を指定する。\n",
    "\n",
    "fs=100002 # start\n",
    "fe=149999 # end"
   ],
   "metadata": {
    "collapsed": false,
    "pycharm": {
     "name": "#%%\n"
    }
   }
  },
  {
   "cell_type": "markdown",
   "source": [
    "# 対象とするファイルの拡張子を指定します．"
   ],
   "metadata": {
    "collapsed": false
   }
  },
  {
   "cell_type": "code",
   "execution_count": 7,
   "outputs": [],
   "source": [
    "ext='jpg'\n"
   ],
   "metadata": {
    "collapsed": false,
    "pycharm": {
     "name": "#%%\n"
    }
   }
  },
  {
   "cell_type": "markdown",
   "source": [
    "%pwd"
   ],
   "metadata": {
    "collapsed": false,
    "pycharm": {
     "name": "#%% md\n"
    }
   }
  },
  {
   "cell_type": "markdown",
   "source": [
    "# ↑　移動しましたか？\n",
    "\n",
    "# globを使って，単に，（ここではjpgの)ファイルリストを取得し，表示する．\n",
    "# 応用的には，pandaのdataframe化した方がいいかな"
   ],
   "metadata": {
    "collapsed": false
   }
  },
  {
   "cell_type": "code",
   "execution_count": 8,
   "outputs": [],
   "source": [
    "# ここは単に確認なので，必要ではない\n",
    "l=glob.glob('*.jpg')\n",
    "# l=glob.glob('*.txt')"
   ],
   "metadata": {
    "collapsed": false,
    "pycharm": {
     "name": "#%%\n"
    }
   }
  },
  {
   "cell_type": "code",
   "execution_count": 9,
   "outputs": [
    {
     "name": "stdout",
     "output_type": "stream",
     "text": [
      "100003.jpg\n"
     ]
    }
   ],
   "source": [
    "print(l[1])"
   ],
   "metadata": {
    "collapsed": false,
    "pycharm": {
     "name": "#%%\n"
    }
   }
  },
  {
   "cell_type": "markdown",
   "source": [
    "# i.1 空リスト(画像ファイルリストを入れるため）を作成\n",
    "# すぐ下よりfor文のすぐ前がいい\n"
   ],
   "metadata": {
    "collapsed": false
   }
  },
  {
   "cell_type": "markdown",
   "source": [
    "# globで，特定のフォルダにある．jpgファイルを読み込む\n",
    "# リスト（画像のファイル）作成のため，繰り返し処理する（リスト化も）\n",
    "## 上で作成した(空)リストに，読み込んだリスト（ファイル名）を繰り返し<span style=\"color: yellow; \">追記</span>する．\n",
    "## しかも，<span style=\"color: yellow; \">「拡張子」を省いた</span>ファイル名で"
   ],
   "metadata": {
    "collapsed": false
   }
  },
  {
   "cell_type": "code",
   "execution_count": 10,
   "outputs": [],
   "source": [
    "file_list=list()\n",
    "\n",
    "for p in glob.glob('*.'+ext, recursive=True):\n",
    "# for p in glob.glob('**.txt', recursive=True):\n",
    "       if os.path.isfile(p):\n",
    "           # print(os.path.basename(p))\n",
    "           base_name=p.split('.',1)[0]\n",
    "           file_list.append(base_name)\n",
    "           # print(base_name)"
   ],
   "metadata": {
    "collapsed": false,
    "pycharm": {
     "name": "#%%\n"
    }
   }
  },
  {
   "cell_type": "code",
   "execution_count": 11,
   "outputs": [
    {
     "name": "stdout",
     "output_type": "stream",
     "text": [
      "100002\n"
     ]
    }
   ],
   "source": [
    "print(file_list[0])"
   ],
   "metadata": {
    "collapsed": false,
    "pycharm": {
     "name": "#%%\n"
    }
   }
  },
  {
   "cell_type": "markdown",
   "source": [
    "# ファイル名（拡張子なし）のリスト化終了\n"
   ],
   "metadata": {
    "collapsed": false,
    "pycharm": {
     "name": "#%% md\n"
    }
   }
  },
  {
   "cell_type": "markdown",
   "source": [
    "# ここで，ポイントの文字列から数値にする．それにおいて，とっつきやすいnumpy配列にする．\n"
   ],
   "metadata": {
    "collapsed": false,
    "pycharm": {
     "name": "#%% md\n"
    }
   }
  },
  {
   "cell_type": "code",
   "execution_count": 12,
   "outputs": [],
   "source": [
    "#% ファイルリストのnumpy配列化\n",
    "file_list=np.array(file_list)\n"
   ],
   "metadata": {
    "collapsed": false,
    "pycharm": {
     "name": "#%%\n"
    }
   }
  },
  {
   "cell_type": "code",
   "execution_count": 13,
   "outputs": [],
   "source": [
    "#データ型の変更\n",
    "file_list=file_list.astype(np.int)"
   ],
   "metadata": {
    "collapsed": false,
    "pycharm": {
     "name": "#%%\n"
    }
   }
  },
  {
   "cell_type": "markdown",
   "source": [
    "# ここで抽出する．"
   ],
   "metadata": {
    "collapsed": false,
    "pycharm": {
     "name": "#%% md\n"
    }
   }
  },
  {
   "cell_type": "markdown",
   "source": [
    "fs=100002\n",
    "fe=149999"
   ],
   "metadata": {
    "collapsed": false,
    "pycharm": {
     "name": "#%% md\n"
    }
   }
  },
  {
   "cell_type": "code",
   "execution_count": 14,
   "outputs": [],
   "source": [
    "file_list_cut=file_list[(fs <= file_list) & (file_list <= fe) ]"
   ],
   "metadata": {
    "collapsed": false,
    "pycharm": {
     "name": "#%%\n"
    }
   }
  },
  {
   "cell_type": "code",
   "execution_count": 15,
   "outputs": [
    {
     "data": {
      "text/plain": "100002"
     },
     "execution_count": 15,
     "metadata": {},
     "output_type": "execute_result"
    }
   ],
   "source": [
    "file_list_cut[0]"
   ],
   "metadata": {
    "collapsed": false,
    "pycharm": {
     "name": "#%%\n"
    }
   }
  },
  {
   "cell_type": "markdown",
   "source": [
    "# 以下で，指定した連番を持つファイルを，別のフォルダにコピーする．\n",
    "## これにおいて，numpy配列のデータ型の変換が必要！"
   ],
   "metadata": {
    "collapsed": false,
    "pycharm": {
     "name": "#%% md\n"
    }
   }
  },
  {
   "cell_type": "markdown",
   "source": [
    "# コピー先のフォルダを指定。ここでは、同じの階層内のフォルダに保存することを想定\n",
    "# もちろん、絶対pathの指定でもいい"
   ],
   "metadata": {
    "collapsed": false,
    "pycharm": {
     "name": "#%% md\n"
    }
   }
  },
  {
   "cell_type": "code",
   "execution_count": null,
   "outputs": [],
   "source": [
    "next_dir=\"box\""
   ],
   "metadata": {
    "collapsed": false,
    "pycharm": {
     "name": "#%%\n"
    }
   }
  },
  {
   "cell_type": "code",
   "execution_count": null,
   "outputs": [],
   "source": [
    "for p in file_list_cut:\n",
    "    p_ext=str(p)+\".\"+ext\n",
    "    cp_p_ext=next_dir+\"/\"+p_ext\n",
    "    shutil.copy(p_ext,cp_p_ext)\n",
    "    # print(p_ext)"
   ],
   "metadata": {
    "collapsed": false,
    "pycharm": {
     "name": "#%%\n"
    }
   }
  },
  {
   "cell_type": "markdown",
   "source": [
    "# 空っぽにしたかったら，下記を実行"
   ],
   "metadata": {
    "collapsed": false,
    "pycharm": {
     "name": "#%% md\n"
    }
   }
  },
  {
   "cell_type": "markdown",
   "source": [
    "# ディレクトリをリセット\n",
    "shutil.rmtree(next_dir)\n",
    "os.mkdir(next_dir)\n"
   ],
   "metadata": {
    "collapsed": false,
    "pycharm": {
     "name": "#%% md\n"
    }
   }
  }
 ],
 "metadata": {
  "kernelspec": {
   "display_name": "Python 3",
   "language": "python",
   "name": "python3"
  },
  "language_info": {
   "codemirror_mode": {
    "name": "ipython",
    "version": 2
   },
   "file_extension": ".py",
   "mimetype": "text/x-python",
   "name": "python",
   "nbconvert_exporter": "python",
   "pygments_lexer": "ipython2",
   "version": "2.7.6"
  }
 },
 "nbformat": 4,
 "nbformat_minor": 0
}