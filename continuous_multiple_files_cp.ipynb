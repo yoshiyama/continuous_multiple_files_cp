{
 "cells": [
  {
   "cell_type": "markdown",
   "source": [
    "# まずはファイルリスト\n",
    "# それからコピー\n"
   ],
   "metadata": {
    "collapsed": false,
    "pycharm": {
     "name": "#%% md\n"
    }
   }
  },
  {
   "cell_type": "code",
   "execution_count": 6,
   "outputs": [],
   "source": [
    "import pandas as pd\n",
    "import numpy as np\n",
    "import csv\n",
    "import math\n",
    "import matplotlib.pyplot as plt\n",
    "import glob\n",
    "import re\n",
    "import os\n",
    "import h5py\n",
    "\n",
    "import matplotlib.pyplot as plt\n",
    "# import skimage\n",
    "from skimage import data, color\n",
    "from skimage.transform import rescale, resize, downscale_local_mean\n",
    "from skimage.viewer import ImageViewer\n",
    "from skimage import io\n",
    "import shutil"
   ],
   "metadata": {
    "collapsed": false,
    "pycharm": {
     "name": "#%%\n"
    }
   }
  },
  {
   "cell_type": "markdown",
   "source": [
    "# 0.まずは，対象ディレクトリ移動(そして，その確認）か？\n"
   ],
   "metadata": {
    "collapsed": false
   }
  },
  {
   "cell_type": "code",
   "execution_count": 1,
   "outputs": [
    {
     "name": "stdout",
     "output_type": "stream",
     "text": [
      "C:\\Users\\survey\\Dropbox\\My PC (SURVEY-C20)\\Documents\\GitHub\\continuous_multiple_files_cp\n"
     ]
    }
   ],
   "source": [
    "%cd C:\\Users\\survey\\Dropbox\\My PC (SURVEY-C20)\\Documents\\GitHub\\continuous_multiple_files_cp"
   ],
   "metadata": {
    "collapsed": false,
    "pycharm": {
     "name": "#%%\n"
    }
   }
  },
  {
   "cell_type": "code",
   "execution_count": 3,
   "outputs": [
    {
     "data": {
      "text/plain": "'C:\\\\Users\\\\survey\\\\Dropbox\\\\My PC (SURVEY-C20)\\\\Documents\\\\GitHub\\\\continuous_multiple_files_cp'"
     },
     "execution_count": 3,
     "metadata": {},
     "output_type": "execute_result"
    }
   ],
   "source": [
    "%pwd"
   ],
   "metadata": {
    "collapsed": false,
    "pycharm": {
     "name": "#%%\n"
    }
   }
  },
  {
   "cell_type": "markdown",
   "source": [
    "# ↑　移動しましたか？\n",
    "\n",
    "# globを使って，単に，（ここではjpgの)ファイルリストを取得し，表示する．\n",
    "# 応用的には，pandaのdataframe化した方がいいかな"
   ],
   "metadata": {
    "collapsed": false
   }
  },
  {
   "cell_type": "code",
   "execution_count": 4,
   "outputs": [],
   "source": [
    "l=glob.glob('*.txt')"
   ],
   "metadata": {
    "collapsed": false,
    "pycharm": {
     "name": "#%%\n"
    }
   }
  },
  {
   "cell_type": "code",
   "execution_count": 5,
   "outputs": [
    {
     "name": "stdout",
     "output_type": "stream",
     "text": [
      "['1.txt', '2.txt', '3.txt', '4.txt']\n"
     ]
    }
   ],
   "source": [
    "print(l)"
   ],
   "metadata": {
    "collapsed": false,
    "pycharm": {
     "name": "#%%\n"
    }
   }
  },
  {
   "cell_type": "code",
   "execution_count": 7,
   "outputs": [
    {
     "name": "stdout",
     "output_type": "stream",
     "text": [
      "2.txt\n"
     ]
    }
   ],
   "source": [
    "print(l[1])\n",
    "\n"
   ],
   "metadata": {
    "collapsed": false,
    "pycharm": {
     "name": "#%%\n"
    }
   }
  },
  {
   "cell_type": "markdown",
   "source": [
    "# globで，特定のフォルダにある．jpgファイルを読み込む\n",
    "# リスト（画像のファイル）作成のため，繰り返し処理する（リスト化も）\n",
    "## 上で作成した(空)リストに，読み込んだリスト（ファイル名）を繰り返し<span style=\"color: yellow; \">追記</span>する．\n",
    "## しかも，<span style=\"color: yellow; \">「拡張子」を省いた</span>ファイル名で"
   ],
   "metadata": {
    "collapsed": false
   }
  },
  {
   "cell_type": "code",
   "execution_count": null,
   "outputs": [],
   "source": [
    "for p in glob.glob('**.jpg', recursive=True):\n",
    "       if os.path.isfile(p):\n",
    "           # print(os.path.basename(p))\n",
    "           base_name=p.split('.',1)[0]\n",
    "           file_list.append(base_name)\n",
    "           print(base_name)"
   ],
   "metadata": {
    "collapsed": false,
    "pycharm": {
     "name": "#%%\n"
    }
   }
  }
 ],
 "metadata": {
  "kernelspec": {
   "display_name": "Python 3",
   "language": "python",
   "name": "python3"
  },
  "language_info": {
   "codemirror_mode": {
    "name": "ipython",
    "version": 2
   },
   "file_extension": ".py",
   "mimetype": "text/x-python",
   "name": "python",
   "nbconvert_exporter": "python",
   "pygments_lexer": "ipython2",
   "version": "2.7.6"
  }
 },
 "nbformat": 4,
 "nbformat_minor": 0
}