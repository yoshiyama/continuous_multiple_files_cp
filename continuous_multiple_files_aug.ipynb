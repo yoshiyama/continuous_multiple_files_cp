{
 "cells": [
  {
   "cell_type": "markdown",
   "source": [
    "# 大量の連番ファイルを他のフォルダへコピーします。\n",
    "\n",
    "# データ拡張\n",
    "\n",
    "\n",
    "# まずはファイルリスト\n",
    "# それからコピー\n",
    "# 文字から数値への変更が必要\n",
    "# numpyのスライスを利用して"
   ],
   "metadata": {
    "collapsed": false
   }
  },
  {
   "cell_type": "code",
   "execution_count": 13,
   "outputs": [],
   "source": [
    "# import pandas as pd\n",
    "import numpy as np\n",
    "# import csv\n",
    "# import math\n",
    "# import matplotlib.pyplot as plt\n",
    "import glob\n",
    "# import re\n",
    "import os\n",
    "# import h5py\n",
    "#\n",
    "# import matplotlib.pyplot as plt\n",
    "# import skimage\n",
    "# from skimage import data, color\n",
    "# from skimage.transform import rescale, resize, downscale_local_mean\n",
    "# from skimage.viewer import ImageViewer\n",
    "# from skimage import io\n",
    "import shutil\n",
    "import cv2\n",
    "import re\n",
    "# from PIL import Image"
   ],
   "metadata": {
    "collapsed": false,
    "pycharm": {
     "name": "#%%\n"
    }
   }
  },
  {
   "cell_type": "markdown",
   "source": [
    "# 0.まずは，対象ディレクトリ移動(そして，その確認）か？"
   ],
   "metadata": {
    "collapsed": false
   }
  },
  {
   "cell_type": "code",
   "execution_count": 2,
   "outputs": [
    {
     "data": {
      "text/plain": "'C:\\\\Users\\\\survey\\\\Dropbox\\\\My PC (SURVEY-C20)\\\\Documents\\\\GitHub\\\\continuous_multiple_files_cp'"
     },
     "execution_count": 2,
     "metadata": {},
     "output_type": "execute_result"
    }
   ],
   "source": [
    "os.getcwd()"
   ],
   "metadata": {
    "collapsed": false,
    "pycharm": {
     "name": "#%%\n"
    }
   }
  },
  {
   "cell_type": "code",
   "execution_count": 27,
   "outputs": [],
   "source": [
    "#os.chdir\n",
    "\n",
    "# %cd C:\\Users\\survey\\Dropbox\\My PC (SURVEY-C20)\\Documents\\GitHub\\continuous_multiple_files_cp\n",
    "\n",
    "# %cd C:\\Users\\survey\\Desktop\\nmea20210705\\divide\\concat\\ffmpeg_concat\n",
    "# %cd C:\\Users\\survey\\Desktop\\box\\box\n",
    "os.chdir(r\"C:\\Users\\survey\\Dropbox\\My PC (SURVEY-C20)\\Documents\\GitHub\\ROAD_AI\\0622_LEFT_Analyze-Copy_test_divide_2\\HASE_KIYO_2021_aug_d\\HASE_KIYO\\train\\NONCRACK\")"
   ],
   "metadata": {
    "collapsed": false,
    "pycharm": {
     "name": "#%%\n"
    }
   }
  },
  {
   "cell_type": "code",
   "execution_count": 3,
   "outputs": [
    {
     "data": {
      "text/plain": "'C:\\\\Users\\\\survey\\\\Dropbox\\\\My PC (SURVEY-C20)\\\\Documents\\\\GitHub\\\\continuous_multiple_files_cp'"
     },
     "execution_count": 3,
     "metadata": {},
     "output_type": "execute_result"
    }
   ],
   "source": [
    "os.getcwd()"
   ],
   "metadata": {
    "collapsed": false,
    "pycharm": {
     "name": "#%%\n"
    }
   }
  },
  {
   "cell_type": "code",
   "execution_count": 10,
   "outputs": [],
   "source": [
    "os.chdir(r\"CRACK/\")\n"
   ],
   "metadata": {
    "collapsed": false,
    "pycharm": {
     "name": "#%%\n"
    }
   }
  },
  {
   "cell_type": "markdown",
   "source": [
    "# 対象とするファイルの拡張子を指定します．"
   ],
   "metadata": {
    "collapsed": false
   }
  },
  {
   "cell_type": "code",
   "execution_count": 28,
   "outputs": [],
   "source": [
    "ext='jpg'"
   ],
   "metadata": {
    "collapsed": false,
    "pycharm": {
     "name": "#%%\n"
    }
   }
  },
  {
   "cell_type": "markdown",
   "source": [
    "%pwd"
   ],
   "metadata": {
    "collapsed": false
   }
  },
  {
   "cell_type": "markdown",
   "source": [
    "# ↑　移動しましたか？\n",
    "\n",
    "# globを使って，単に，（ここではjpgの)ファイルリストを取得し，表示する．\n",
    "# 応用的には，pandaのdataframe化した方がいいかな"
   ],
   "metadata": {
    "collapsed": false
   }
  },
  {
   "cell_type": "code",
   "execution_count": 21,
   "outputs": [],
   "source": [
    "# ここは単に確認なので，必要ではない\n",
    "l=glob.glob('*.jpg')\n",
    "# l=glob.glob('*.txt')"
   ],
   "metadata": {
    "collapsed": false,
    "pycharm": {
     "name": "#%%\n"
    }
   }
  },
  {
   "cell_type": "code",
   "execution_count": 22,
   "outputs": [
    {
     "name": "stdout",
     "output_type": "stream",
     "text": [
      "114012_2_01.jpg\n"
     ]
    }
   ],
   "source": [
    "print(l[1])"
   ],
   "metadata": {
    "collapsed": false,
    "pycharm": {
     "name": "#%%\n"
    }
   }
  },
  {
   "cell_type": "markdown",
   "source": [
    "# i.1 空リスト(画像ファイルリストを入れるため）を作成\n",
    "# すぐ下よりfor文のすぐ前がいい\n"
   ],
   "metadata": {
    "collapsed": false
   }
  },
  {
   "cell_type": "markdown",
   "source": [
    "# globで，特定のフォルダにある．jpgファイルを読み込む\n",
    "# リスト（画像のファイル）作成のため，繰り返し処理する（リスト化も）\n",
    "## 上で作成した(空)リストに，読み込んだリスト（ファイル名）を繰り返し<span style=\"color: yellow; \">追記</span>する．\n",
    "## しかも，<span style=\"color: yellow; \">「拡張子」を省いた</span>ファイル名で"
   ],
   "metadata": {
    "collapsed": false
   }
  },
  {
   "cell_type": "code",
   "execution_count": 29,
   "outputs": [],
   "source": [
    "file_list=list()\n",
    "\n",
    "for p in glob.glob('*.'+ext, recursive=True):\n",
    "# for p in glob.glob('**.txt', recursive=True):\n",
    "       if os.path.isfile(p):\n",
    "           # print(os.path.basename(p))\n",
    "           base_name=p.split('.',1)[0]\n",
    "           file_list.append(base_name)\n",
    "           # print(base_name)"
   ],
   "metadata": {
    "collapsed": false,
    "pycharm": {
     "name": "#%%\n"
    }
   }
  },
  {
   "cell_type": "code",
   "execution_count": 30,
   "outputs": [
    {
     "name": "stdout",
     "output_type": "stream",
     "text": [
      "113334_1_02\n"
     ]
    }
   ],
   "source": [
    "print(file_list[0])"
   ],
   "metadata": {
    "collapsed": false,
    "pycharm": {
     "name": "#%%\n"
    }
   }
  },
  {
   "cell_type": "markdown",
   "source": [
    "# ファイル名（拡張子なし）のリスト化終了\n"
   ],
   "metadata": {
    "collapsed": false
   }
  },
  {
   "cell_type": "markdown",
   "source": [
    "# ここで，ポイントの文字列から数値にする．それにおいて，とっつきやすいnumpy配列にする．\n"
   ],
   "metadata": {
    "collapsed": false
   }
  },
  {
   "cell_type": "code",
   "execution_count": 8,
   "outputs": [],
   "source": [
    "#% ファイルリストのnumpy配列化\n",
    "file_list=np.array(file_list)\n"
   ],
   "metadata": {
    "collapsed": false,
    "pycharm": {
     "name": "#%%\n"
    }
   }
  },
  {
   "cell_type": "markdown",
   "source": [
    "# 以下で，指定した連番を持つファイルを，別のフォルダにコピーする．\n",
    "## これにおいて，numpy配列のデータ型の変換が必要！"
   ],
   "metadata": {
    "collapsed": false
   }
  },
  {
   "cell_type": "markdown",
   "source": [
    "# コピー先のフォルダを指定。ここでは、同じの階層内のフォルダに保存することを想定\n",
    "# もちろん、絶対pathの指定でもいい"
   ],
   "metadata": {
    "collapsed": false
   }
  },
  {
   "cell_type": "code",
   "execution_count": 37,
   "outputs": [],
   "source": [
    "# next_dir=\"test\"\n",
    "next_dir=\"train\""
   ],
   "metadata": {
    "collapsed": false,
    "pycharm": {
     "name": "#%%\n"
    }
   }
  },
  {
   "cell_type": "code",
   "execution_count": 31,
   "outputs": [
    {
     "data": {
      "text/plain": "'C:\\\\Users\\\\survey\\\\Dropbox\\\\My PC (SURVEY-C20)\\\\Documents\\\\GitHub\\\\ROAD_AI\\\\0622_LEFT_Analyze-Copy_test_divide_2\\\\HASE_KIYO_2021_aug_d\\\\HASE_KIYO\\\\train\\\\NONCRACK'"
     },
     "execution_count": 31,
     "metadata": {},
     "output_type": "execute_result"
    }
   ],
   "source": [
    "os.getcwd()"
   ],
   "metadata": {
    "collapsed": false,
    "pycharm": {
     "name": "#%%\n"
    }
   }
  },
  {
   "cell_type": "code",
   "execution_count": 32,
   "outputs": [
    {
     "data": {
      "text/plain": "'113334_1_02'"
     },
     "execution_count": 32,
     "metadata": {},
     "output_type": "execute_result"
    }
   ],
   "source": [
    "file_list[0]"
   ],
   "metadata": {
    "collapsed": false,
    "pycharm": {
     "name": "#%%\n"
    }
   }
  },
  {
   "cell_type": "code",
   "source": [
    "os.mkdir(next_dir)"
   ],
   "metadata": {
    "collapsed": false,
    "pycharm": {
     "name": "#%%\n"
    }
   },
   "execution_count": 38,
   "outputs": []
  },
  {
   "cell_type": "code",
   "execution_count": null,
   "outputs": [],
   "source": [
    "for p in file_list:\n",
    "# for p in rand_get:\n",
    "# for p in file_list_cut:\n",
    "    p_ext=str(p)+\".\"+ext\n",
    "    p_ext_90=str(p)+\"+90d\"+\".\"+ext\n",
    "    p_ext_180=str(p)+\"+180d\"+\".\"+ext\n",
    "    p_ext_270=str(p)+\"+270d\"+\".\"+ext\n",
    "    # print(p_ext_90)\n",
    "    img=cv2.imread(p_ext)\n",
    "    img_rotate_90 = cv2.rotate(img, cv2.ROTATE_90_CLOCKWISE)\n",
    "    img_rotate_180 = cv2.rotate(img, cv2.ROTATE_180)\n",
    "    img_rotate_270 = cv2.rotate(img, cv2.ROTATE_90_COUNTERCLOCKWISE)\n",
    "    cv2.imwrite(p_ext_90, img_rotate_90)\n",
    "    cv2.imwrite(p_ext_180, img_rotate_180)\n",
    "    cv2.imwrite(p_ext_270, img_rotate_270 )\n",
    "    # cp_p_ext=next_dir+\"/\"+p_ext\n",
    "    # shutil.move(p_ext,cp_p_ext)\n",
    "    # print(p_ext)"
   ],
   "metadata": {
    "collapsed": false,
    "pycharm": {
     "name": "#%%\n",
     "is_executing": true
    }
   }
  },
  {
   "cell_type": "markdown",
   "source": [
    "# 空っぽにしたかったら，下記を実行"
   ],
   "metadata": {
    "collapsed": false
   }
  },
  {
   "cell_type": "markdown",
   "source": [
    "# ディレクトリをリセット\n",
    "shutil.rmtree(next_dir)\n",
    "os.mkdir(next_dir)"
   ],
   "metadata": {
    "collapsed": false
   }
  }
 ],
 "metadata": {
  "kernelspec": {
   "name": "pycharm-c1809878",
   "language": "python",
   "display_name": "PyCharm (continuous_multiple_files_cp)"
  },
  "language_info": {
   "codemirror_mode": {
    "name": "ipython",
    "version": 2
   },
   "file_extension": ".py",
   "mimetype": "text/x-python",
   "name": "python",
   "nbconvert_exporter": "python",
   "pygments_lexer": "ipython2",
   "version": "2.7.6"
  }
 },
 "nbformat": 4,
 "nbformat_minor": 0
}